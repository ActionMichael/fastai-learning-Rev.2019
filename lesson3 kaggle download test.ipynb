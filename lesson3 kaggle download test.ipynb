{
 "cells": [
  {
   "cell_type": "code",
   "execution_count": 1,
   "metadata": {},
   "outputs": [
    {
     "name": "stdout",
     "output_type": "stream",
     "text": [
      "Requirement already satisfied: kaggle in c:\\users\\user\\anaconda3\\envs\\fastai_v1\\lib\\site-packages (1.5.6)\n",
      "Requirement already satisfied: certifi in c:\\users\\user\\anaconda3\\envs\\fastai_v1\\lib\\site-packages (from kaggle) (2019.11.28)\n",
      "Requirement already satisfied: urllib3<1.25,>=1.21.1 in c:\\users\\user\\anaconda3\\envs\\fastai_v1\\lib\\site-packages (from kaggle) (1.24.3)\n",
      "Requirement already satisfied: python-dateutil in c:\\users\\user\\anaconda3\\envs\\fastai_v1\\lib\\site-packages (from kaggle) (2.8.1)\n",
      "Requirement already satisfied: python-slugify in c:\\users\\user\\anaconda3\\envs\\fastai_v1\\lib\\site-packages (from kaggle) (4.0.0)\n",
      "Requirement already satisfied: six>=1.10 in c:\\users\\user\\anaconda3\\envs\\fastai_v1\\lib\\site-packages (from kaggle) (1.13.0)\n",
      "Requirement already satisfied: requests in c:\\users\\user\\anaconda3\\envs\\fastai_v1\\lib\\site-packages (from kaggle) (2.22.0)\n",
      "Requirement already satisfied: tqdm in c:\\users\\user\\anaconda3\\envs\\fastai_v1\\lib\\site-packages (from kaggle) (4.41.0)\n",
      "Requirement already satisfied: text-unidecode>=1.3 in c:\\users\\user\\anaconda3\\envs\\fastai_v1\\lib\\site-packages (from python-slugify->kaggle) (1.3)\n",
      "Requirement already satisfied: chardet<3.1.0,>=3.0.2 in c:\\users\\user\\anaconda3\\envs\\fastai_v1\\lib\\site-packages (from requests->kaggle) (3.0.4)\n",
      "Requirement already satisfied: idna<2.9,>=2.5 in c:\\users\\user\\anaconda3\\envs\\fastai_v1\\lib\\site-packages (from requests->kaggle) (2.8)\n"
     ]
    }
   ],
   "source": [
    "!pip install kaggle"
   ]
  },
  {
   "cell_type": "code",
   "execution_count": 29,
   "metadata": {},
   "outputs": [
    {
     "name": "stderr",
     "output_type": "stream",
     "text": [
      "子目錄或檔案 \\Users\\User\\.kaggle 已經存在。\n",
      "系統找不到指定的檔案。\n",
      "'chmod' 不是內部或外部命令、可執行的程式或批次檔。\n"
     ]
    }
   ],
   "source": [
    "#於是我們在使用者目錄下建立隱藏資料夾 .kaggle 再將下載好的憑證移動到至該資料夾中，\n",
    "#為了減少因為權限設定過於寬鬆導致日後使用 Public API 時一直收到警告，我們將 kaggle.json \n",
    "#檔案的權限設定為只有檔案所有人可以讀寫、其他使用者不可讀寫（ chmod 600 /Users/USERNAME/.kaggle/kaggle.json）。\n",
    "! mkdir \\Users\\User\\.kaggle\n",
    "! move \\Users\\User\\Downloads\\kaggle.json \\Users\\User\\.kaggle\\kaggle.json\n",
    "! chmod 600 \\Users\\User\\.kaggle\\kaggle.json"
   ]
  },
  {
   "cell_type": "code",
   "execution_count": 6,
   "metadata": {},
   "outputs": [
    {
     "name": "stdout",
     "output_type": "stream",
     "text": [
      "ref                                                     title                                             size  lastUpdated          downloadCount  voteCount  usabilityRating  \n",
      "------------------------------------------------------  -----------------------------------------------  -----  -------------------  -------------  ---------  ---------------  \n",
      "timoboz/google-trends-data                              Google Trends Data                                 1MB  2020-02-04 17:31:10            523         30  0.85294116       \n",
      "fmejia21/demographics-of-academy-awards-oscars-winners  Demographics of Academy Awards (Oscars) Winners   20KB  2020-02-04 17:38:26            323         24  0.9411765        \n",
      "timoboz/big-list-of-naughty-strings                     Big List of Naughty Strings                       66KB  2020-02-04 18:11:53             31         12  0.8125           \n",
      "fmejia21/2020-democratic-primary-endorsements           2020 Democratic Primary Endorsements              22KB  2020-02-04 18:05:34             94         10  0.88235295       \n",
      "prondeau/diceimages                                     Images of Board Game Dice                         48MB  2020-02-04 18:24:40             35         11  0.8125           \n",
      "timoboz/python-data-science-handbook                    Python Data Science Handbook                      15MB  2020-02-04 18:27:14            170         22  0.88235295       \n",
      "timoboz/clevr-dataset                                   CLEVR Dataset                                     18GB  2020-02-04 18:36:16             19         11  0.9375           \n",
      "peijenlin/surviving-mars-maps                           Surviving Mars Maps                                4MB  2020-01-27 20:30:13             52         18  1.0              \n",
      "chrisfilo/urbansound8k                                  UrbanSound8K                                       6GB  2020-02-04 18:37:24             22         12  0.7647059        \n",
      "prondeau/350000-jeopardy-questions                      350,000+ Jeopardy Questions                       19MB  2020-02-04 18:53:30             86         16  0.9411765        \n",
      "prondeau/superbowlads                                   Super Bowl Ads                                    36KB  2020-02-04 18:04:07            170         17  1.0              \n",
      "timoboz/can-james-bond-be-black                         Can James Bond Be Black?                          345B  2020-02-04 19:08:57             41         11  1.0              \n",
      "devvret/farm-ads-binary-classification                  Farm Ads Binary Classification                     5MB  2020-02-04 19:12:44             20         10  0.8125           \n",
      "fmejia21/nba-all-star-game-20002016                     NBA All Star Game 2000-2016                       35KB  2020-02-04 19:21:13            251         18  0.9411765        \n",
      "timoboz/wikidata-jsons                                  Wikidata jsons                                   858MB  2020-02-04 19:19:08              9          8  0.8125           \n",
      "chrisfilo/firesense                                     FIRESENSE                                        784MB  2020-02-04 19:20:54             29         13  0.8125           \n",
      "prondeau/the-car-connection-picture-dataset             60,000+ Images of Cars                           682MB  2020-02-04 19:19:07             57         16  0.9375           \n",
      "fmejia21/trump-impeachment-polls                        Trump Impeachment Polls                          110KB  2020-02-04 19:29:05            103         14  0.9411765        \n",
      "chrisfilo/demand                                        DEMAND                                             7GB  2020-02-04 19:41:36              7          7  0.8125           \n",
      "timoboz/data-science-cheat-sheets                       Data Science Cheat Sheets                        596MB  2020-02-04 19:42:27            383         26  0.8125           \n"
     ]
    }
   ],
   "source": [
    "! kaggle datasets list"
   ]
  },
  {
   "cell_type": "code",
   "execution_count": 7,
   "metadata": {},
   "outputs": [
    {
     "name": "stdout",
     "output_type": "stream",
     "text": [
      "planet-understanding-the-amazon-from-space.zip: Skipping, found more recently modified local copy (use --force to force download)\n"
     ]
    }
   ],
   "source": [
    "! kaggle competitions download -c planet-understanding-the-amazon-from-space"
   ]
  },
  {
   "cell_type": "code",
   "execution_count": 9,
   "metadata": {},
   "outputs": [],
   "source": [
    "! mkdir \\root\\.kaggle\n",
    "! echo '{\"username\":\"USERNAME\",\"key\":\"API_KEY\"}' > \\root\\.kaggle\\kaggle.json"
   ]
  },
  {
   "cell_type": "code",
   "execution_count": 22,
   "metadata": {},
   "outputs": [
    {
     "name": "stdout",
     "output_type": "stream",
     "text": [
      "Downloading planet-understanding-the-amazon-from-space.zip to C:\\Users\\User\\course-v3\\nbs\\dl1\n",
      "\n"
     ]
    },
    {
     "name": "stderr",
     "output_type": "stream",
     "text": [
      "\n",
      "  0%|          | 0.00/2.94M [00:00<?, ?B/s]\n",
      " 68%|██████▊   | 2.00M/2.94M [00:00<00:00, 11.3MB/s]\n",
      "100%|██████████| 2.94M/2.94M [00:00<00:00, 11.6MB/s]\n"
     ]
    }
   ],
   "source": [
    "! kaggle competitions download -c planet-understanding-the-amazon-from-space"
   ]
  },
  {
   "cell_type": "code",
   "execution_count": 23,
   "metadata": {},
   "outputs": [
    {
     "name": "stdout",
     "output_type": "stream",
     "text": [
      "Downloading fashionmnist.zip to C:\\Users\\User\\course-v3\\nbs\\dl1\n",
      "\n"
     ]
    },
    {
     "name": "stderr",
     "output_type": "stream",
     "text": [
      "\n",
      "  0%|          | 0.00/68.8M [00:00<?, ?B/s]\n",
      "  3%|▎         | 2.00M/68.8M [00:00<00:06, 11.4MB/s]\n",
      "  6%|▌         | 4.00M/68.8M [00:00<00:05, 11.7MB/s]\n",
      "  9%|▊         | 6.00M/68.8M [00:00<00:05, 11.8MB/s]\n",
      " 12%|█▏        | 8.00M/68.8M [00:00<00:05, 12.0MB/s]\n",
      " 13%|█▎        | 9.00M/68.8M [00:01<00:19, 3.20MB/s]\n",
      " 16%|█▌        | 11.0M/68.8M [00:01<00:14, 4.12MB/s]\n",
      " 17%|█▋        | 12.0M/68.8M [00:01<00:12, 4.88MB/s]\n",
      " 20%|██        | 14.0M/68.8M [00:02<00:09, 5.91MB/s]\n",
      " 23%|██▎       | 16.0M/68.8M [00:02<00:07, 6.99MB/s]\n",
      " 26%|██▌       | 18.0M/68.8M [00:02<00:06, 8.04MB/s]\n",
      " 29%|██▉       | 20.0M/68.8M [00:02<00:05, 8.76MB/s]\n",
      " 32%|███▏      | 22.0M/68.8M [00:02<00:05, 9.58MB/s]\n",
      " 35%|███▍      | 24.0M/68.8M [00:02<00:04, 10.2MB/s]\n",
      " 38%|███▊      | 26.0M/68.8M [00:03<00:04, 10.7MB/s]\n",
      " 41%|████      | 28.0M/68.8M [00:03<00:03, 11.2MB/s]\n",
      " 44%|████▎     | 30.0M/68.8M [00:03<00:03, 11.5MB/s]\n",
      " 47%|████▋     | 32.0M/68.8M [00:03<00:03, 11.5MB/s]\n",
      " 49%|████▉     | 34.0M/68.8M [00:03<00:03, 11.6MB/s]\n",
      " 52%|█████▏    | 36.0M/68.8M [00:03<00:02, 11.8MB/s]\n",
      " 55%|█████▌    | 38.0M/68.8M [00:04<00:02, 11.9MB/s]\n",
      " 58%|█████▊    | 40.0M/68.8M [00:04<00:02, 12.0MB/s]\n",
      " 61%|██████    | 42.0M/68.8M [00:04<00:02, 12.0MB/s]\n",
      " 64%|██████▍   | 44.0M/68.8M [00:04<00:02, 11.9MB/s]\n",
      " 67%|██████▋   | 46.0M/68.8M [00:04<00:01, 12.0MB/s]\n",
      " 70%|██████▉   | 48.0M/68.8M [00:05<00:01, 12.1MB/s]\n",
      " 73%|███████▎  | 50.0M/68.8M [00:05<00:01, 12.0MB/s]\n",
      " 76%|███████▌  | 52.0M/68.8M [00:05<00:01, 11.3MB/s]\n",
      " 79%|███████▊  | 54.0M/68.8M [00:05<00:01, 10.6MB/s]\n",
      " 81%|████████▏ | 56.0M/68.8M [00:05<00:01, 10.6MB/s]\n",
      " 84%|████████▍ | 58.0M/68.8M [00:06<00:02, 4.84MB/s]\n",
      " 87%|████████▋ | 60.0M/68.8M [00:06<00:01, 5.89MB/s]\n",
      " 90%|█████████ | 62.0M/68.8M [00:07<00:01, 6.98MB/s]\n",
      " 92%|█████████▏| 63.0M/68.8M [00:07<00:00, 7.15MB/s]\n",
      " 95%|█████████▍| 65.0M/68.8M [00:08<00:00, 4.24MB/s]\n",
      " 97%|█████████▋| 67.0M/68.8M [00:08<00:00, 5.28MB/s]\n",
      "100%|██████████| 68.8M/68.8M [00:08<00:00, 6.37MB/s]\n",
      "100%|██████████| 68.8M/68.8M [00:08<00:00, 8.41MB/s]\n"
     ]
    }
   ],
   "source": [
    "!kaggle datasets download -d zalando-research/fashionmnist"
   ]
  },
  {
   "cell_type": "code",
   "execution_count": 25,
   "metadata": {},
   "outputs": [
    {
     "name": "stderr",
     "output_type": "stream",
     "text": [
      "'unzip' 不是內部或外部命令、可執行的程式或批次檔。\n"
     ]
    }
   ],
   "source": [
    "!unzip fashionmnist.zip"
   ]
  },
  {
   "cell_type": "code",
   "execution_count": 32,
   "metadata": {},
   "outputs": [],
   "source": [
    "import zipfile\n",
    "with zipfile.ZipFile(\"planet-understanding-the-amazon-from-space.zip\",\"r\") as zip_ref:\n",
    "    zip_ref.extractall(\"planet\")"
   ]
  },
  {
   "cell_type": "code",
   "execution_count": null,
   "metadata": {},
   "outputs": [],
   "source": []
  }
 ],
 "metadata": {
  "kernelspec": {
   "display_name": "fastai v1",
   "language": "python",
   "name": "fastai_v1"
  },
  "language_info": {
   "codemirror_mode": {
    "name": "ipython",
    "version": 3
   },
   "file_extension": ".py",
   "mimetype": "text/x-python",
   "name": "python",
   "nbconvert_exporter": "python",
   "pygments_lexer": "ipython3",
   "version": "3.6.7"
  }
 },
 "nbformat": 4,
 "nbformat_minor": 2
}
